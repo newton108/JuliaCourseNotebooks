{
 "cells": [
  {
   "cell_type": "markdown",
   "metadata": {},
   "source": [
    "# Week 3 - Fitting a curve"
   ]
  },
  {
   "cell_type": "code",
   "execution_count": 1,
   "metadata": {
    "collapsed": false
   },
   "outputs": [
    {
     "name": "stderr",
     "output_type": "stream",
     "text": [
      "\u001b[1m\u001b[34mINFO: Recompiling stale cache file /Users/joe/.julia/lib/v0.5/Conda.ji for module Conda.\n",
      "\u001b[0m\u001b[1m\u001b[34mINFO: Recompiling stale cache file /Users/joe/.julia/lib/v0.5/PyCall.ji for module PyCall.\n",
      "\u001b[0m\u001b[1m\u001b[34mINFO: Recompiling stale cache file /Users/joe/.julia/lib/v0.5/PyPlot.ji for module PyPlot.\n",
      "\u001b[0m"
     ]
    },
    {
     "data": {
      "text/plain": [
       "Plots.PyPlotBackend()"
      ]
     },
     "execution_count": 1,
     "metadata": {},
     "output_type": "execute_result"
    }
   ],
   "source": [
    "# You may need this setup\n",
    "using Plots\n",
    "pyplot()"
   ]
  },
  {
   "cell_type": "markdown",
   "metadata": {},
   "source": [
    "Import the supplied data representing 15 pairs to x- and y-values. "
   ]
  },
  {
   "cell_type": "code",
   "execution_count": 2,
   "metadata": {
    "collapsed": false
   },
   "outputs": [
    {
     "data": {
      "text/plain": [
       "15×2 Array{Float64,2}:\n",
       " 1.68005    -1.6417  \n",
       " 0.501309   -0.977698\n",
       " 1.52801     0.527711\n",
       " 1.70012     1.71152 \n",
       " 1.99249     1.891   \n",
       " 2.70608    -0.463428\n",
       " 2.99493    -0.443567\n",
       " 3.49185    -1.27518 \n",
       " 3.50119    -0.6905  \n",
       " 4.45992    -5.51613 \n",
       " 4.93697    -6.0017  \n",
       " 5.02329    -8.36417 \n",
       " 5.04234    -7.92448 \n",
       " 5.50739   -10.7748  \n",
       " 5.56867   -10.9172  "
      ]
     },
     "execution_count": 2,
     "metadata": {},
     "output_type": "execute_result"
    }
   ],
   "source": [
    "data_tofit = [1.6800483    -1.641695388; \n",
    "              0.501309281  -0.977697538; \n",
    "              1.528012113   0.52771122;\n",
    "              1.70012253    1.711524991; \n",
    "              1.992493625   1.891000015;\n",
    "              2.706075824  -0.463427794;\n",
    "              2.994931927  -0.443566619;\n",
    "              3.491852811  -1.275179133;\n",
    "              3.501191722  -0.690499597;\n",
    "              4.459924502  -5.516130799;\n",
    "              4.936965851  -6.001703074;\n",
    "              5.023289852  -8.36416901;\n",
    "              5.04233698   -7.924477517;\n",
    "              5.50739285  -10.77482371;\n",
    "              5.568665171 -10.9171878]\n",
    "\n",
    "# Create the arrays x and y, assigning x the first column of data_tofit and y the second column\n"
   ]
  },
  {
   "cell_type": "code",
   "execution_count": 3,
   "metadata": {
    "collapsed": false
   },
   "outputs": [
    {
     "name": "stdout",
     "output_type": "stream",
     "text": [
      "1.6800483\n",
      "0.501309281\n",
      "1.528012113\n",
      "1.70012253\n",
      "1.992493625\n",
      "2.706075824\n",
      "2.994931927\n",
      "3.491852811\n",
      "3.501191722\n",
      "4.459924502\n",
      "4.936965851\n",
      "5.023289852\n",
      "5.04233698\n",
      "5.50739285\n",
      "5.568665171\n",
      "-1.641695388\n",
      "-0.977697538\n",
      "0.52771122\n",
      "1.711524991\n",
      "1.891000015\n",
      "-0.463427794\n",
      "-0.443566619\n",
      "-1.275179133\n",
      "-0.690499597\n",
      "-5.516130799\n",
      "-6.001703074\n",
      "-8.36416901\n",
      "-7.924477517\n",
      "-10.77482371\n",
      "-10.9171878\n"
     ]
    }
   ],
   "source": [
    "for x in data_tofit\n",
    "    println(x)\n",
    "end"
   ]
  },
  {
   "cell_type": "code",
   "execution_count": 4,
   "metadata": {
    "collapsed": false
   },
   "outputs": [
    {
     "data": {
      "text/plain": [
       "15-element Array{Float64,1}:\n",
       "  -1.6417  \n",
       "  -0.977698\n",
       "   0.527711\n",
       "   1.71152 \n",
       "   1.891   \n",
       "  -0.463428\n",
       "  -0.443567\n",
       "  -1.27518 \n",
       "  -0.6905  \n",
       "  -5.51613 \n",
       "  -6.0017  \n",
       "  -8.36417 \n",
       "  -7.92448 \n",
       " -10.7748  \n",
       " -10.9172  "
      ]
     },
     "execution_count": 4,
     "metadata": {},
     "output_type": "execute_result"
    }
   ],
   "source": [
    "x = data_tofit[:, 1]\n",
    "y = data_tofit[:, 2]"
   ]
  },
  {
   "cell_type": "markdown",
   "metadata": {},
   "source": [
    "Then we do a scatterplot, this gives us the points the line must go through."
   ]
  },
  {
   "cell_type": "code",
   "execution_count": 5,
   "metadata": {
    "collapsed": false
   },
   "outputs": [
    {
     "data": {
      "text/html": [
       "<img src=\"data:image/png;base64,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\" />"
      ]
     },
     "execution_count": 5,
     "metadata": {},
     "output_type": "execute_result"
    },
    {
     "name": "stderr",
     "output_type": "stream",
     "text": [
      "sys:1: MatplotlibDeprecationWarning: The set_axis_bgcolor function was deprecated in version 2.0. Use set_facecolor instead.\n"
     ]
    }
   ],
   "source": [
    "# Plot the x and y data points using a scatter plot of the x and y array variables\n",
    "plot(x, y, line=:scatter, legend=:false)"
   ]
  },
  {
   "cell_type": "markdown",
   "metadata": {},
   "source": [
    "For the line, we need a function, which we now define. Note that the parameters a, b, c need not be passed to the function: we will keep resetting them to try to improve the fit."
   ]
  },
  {
   "cell_type": "code",
   "execution_count": 6,
   "metadata": {
    "collapsed": false
   },
   "outputs": [
    {
     "data": {
      "text/plain": [
       "parabfit (generic function with 1 method)"
      ]
     },
     "execution_count": 6,
     "metadata": {},
     "output_type": "execute_result"
    }
   ],
   "source": [
    "# Create a function called parabfit, with x as the argument, returning a*x^2 + b*x + c\n",
    "parabfit(x) = a*x^2 + b*x + c"
   ]
  },
  {
   "cell_type": "markdown",
   "metadata": {},
   "source": [
    "Let's check that we do get a reasonable parabola. Choose your own interval [xmin, xmax] and parameters a, b, c. If it looks too much like a straight line, chance your choices until it does."
   ]
  },
  {
   "cell_type": "code",
   "execution_count": 7,
   "metadata": {
    "collapsed": false
   },
   "outputs": [
    {
     "data": {
      "text/html": [
       "<img src=\"data:image/png;base64,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\" />"
      ]
     },
     "execution_count": 7,
     "metadata": {},
     "output_type": "execute_result"
    }
   ],
   "source": [
    "# Create variables a, b and c, assigning each the value 1\n",
    "a = 1\n",
    "b = 1\n",
    "c = 1\n",
    "\n",
    "# Plot the function parabfit, for x values between -5 and 5 \n",
    "plot(parabfit, -5, 5)"
   ]
  },
  {
   "cell_type": "markdown",
   "metadata": {},
   "source": [
    "Now we choose a, b, c and plot the curve together with the points. \n",
    "\n",
    "Note that by looking at where the data points lie, we can deduce some of the properties for a, b, c, as follows.\n",
    "\n",
    "The plot must have a y-intersection that is close to 0, so c is close to 0. Also, the parabola is open downwards, so a must be negative. Finally, it has its maximum at a positive x, so b must be positive. \n",
    "\n",
    "Use plot() to start with the scatter plot and plot!() to add the curve for parabfit. (There are other ways to do this ...)"
   ]
  },
  {
   "cell_type": "code",
   "execution_count": 8,
   "metadata": {
    "collapsed": false
   },
   "outputs": [
    {
     "data": {
      "text/html": [
       "<img src=\"data:image/png;base64,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\" />"
      ]
     },
     "execution_count": 8,
     "metadata": {},
     "output_type": "execute_result"
    }
   ],
   "source": [
    "# More plot!() tries.\n",
    "a,b,c = -1, 4, -3\n",
    "plot(x, y, line=:scatter, legend=:false)\n",
    "plot!(parabfit, -5, 5)\n"
   ]
  },
  {
   "cell_type": "code",
   "execution_count": null,
   "metadata": {
    "collapsed": true
   },
   "outputs": [],
   "source": []
  }
 ],
 "metadata": {
  "kernelspec": {
   "display_name": "Julia 0.5.0",
   "language": "julia",
   "name": "julia-0.5"
  },
  "language_info": {
   "file_extension": ".jl",
   "mimetype": "application/julia",
   "name": "julia",
   "version": "0.5.0"
  }
 },
 "nbformat": 4,
 "nbformat_minor": 0
}
